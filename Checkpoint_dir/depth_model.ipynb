{
 "cells": [
  {
   "cell_type": "code",
   "execution_count": 1,
   "id": "5bc0ef20",
   "metadata": {},
   "outputs": [],
   "source": [
    "#import library for training model\n",
    "import pandas as pd\n",
    "import tensorflow as tf"
   ]
  },
  {
   "cell_type": "markdown",
   "id": "4bdd5cd6",
   "metadata": {},
   "source": [
    "Reference Link: https://towardsdatascience.com/performing-classification-in-tensorflow-95368fde289c"
   ]
  },
  {
   "cell_type": "code",
   "execution_count": 2,
   "id": "7ac0b5e4",
   "metadata": {},
   "outputs": [],
   "source": [
    "#downloading dataset from file\n",
    "df = pd.read_csv('/home/raikmitl-5/Desktop/ENV_Project/Dataset/dataset_depth.csv', index_col='Unnamed: 0')"
   ]
  },
  {
   "cell_type": "code",
   "execution_count": 3,
   "id": "a068dc0d",
   "metadata": {},
   "outputs": [
    {
     "name": "stdout",
     "output_type": "stream",
     "text": [
      "<class 'pandas.core.frame.DataFrame'>\n",
      "Int64Index: 1506 entries, 0 to 249\n",
      "Data columns (total 11 columns):\n",
      " #   Column       Non-Null Count  Dtype  \n",
      "---  ------       --------------  -----  \n",
      " 0   Chin         1506 non-null   float64\n",
      " 1   Nose         1506 non-null   float64\n",
      " 2   RightEye1    1506 non-null   float64\n",
      " 3   RightEye2    1506 non-null   float64\n",
      " 4   LeftEye1     1506 non-null   float64\n",
      " 5   LeftEye2     1506 non-null   float64\n",
      " 6   MouthRight   1506 non-null   float64\n",
      " 7   MouthTop     1506 non-null   float64\n",
      " 8   MouthLeft    1506 non-null   float64\n",
      " 9   MouthBottom  1506 non-null   float64\n",
      " 10  Label        1506 non-null   object \n",
      "dtypes: float64(10), object(1)\n",
      "memory usage: 141.2+ KB\n",
      "None\n"
     ]
    }
   ],
   "source": [
    "print(df.info())"
   ]
  },
  {
   "cell_type": "code",
   "execution_count": 4,
   "id": "d08d0c73",
   "metadata": {},
   "outputs": [
    {
     "data": {
      "text/plain": [
       "array(['Photo', 'Real_Face'], dtype=object)"
      ]
     },
     "execution_count": 4,
     "metadata": {},
     "output_type": "execute_result"
    }
   ],
   "source": [
    "df['Label'].unique()"
   ]
  },
  {
   "cell_type": "code",
   "execution_count": 5,
   "id": "021531f0",
   "metadata": {},
   "outputs": [],
   "source": [
    "ls_label = []\n",
    "#change the label: Photo=0, Real_face=1\n",
    "for i in df['Label']:\n",
    "    if i == 'Photo':\n",
    "        ls_label.append(0)\n",
    "    if i == 'Real_Face':\n",
    "        ls_label.append(1)\n",
    "\n",
    "df['Label'] = ls_label"
   ]
  },
  {
   "cell_type": "code",
   "execution_count": 6,
   "id": "30ebd0b4",
   "metadata": {},
   "outputs": [
    {
     "name": "stdout",
     "output_type": "stream",
     "text": [
      "               Chin     Nose  RightEye1  RightEye2  LeftEye1  LeftEye2  \\\n",
      "Unnamed: 0                                                               \n",
      "0             164.0    168.0      166.0      167.0     172.0     172.0   \n",
      "1           21903.0  11151.0      244.0    10759.0    9292.0   10221.0   \n",
      "2             541.0    670.0      188.0      188.0   17522.0   19165.0   \n",
      "3             206.0    205.0      205.0      205.0     567.0     573.0   \n",
      "4             226.0    232.0      235.0      235.0     538.0     543.0   \n",
      "...             ...      ...        ...        ...       ...       ...   \n",
      "245           584.0    480.0      480.0      475.0     520.0   13049.0   \n",
      "246           625.0    509.0      531.0      517.0     545.0     554.0   \n",
      "247           556.0    454.0      509.0      484.0     490.0     499.0   \n",
      "248           577.0    458.0      495.0      480.0     513.0     541.0   \n",
      "249           550.0    424.0      501.0      449.0     439.0     447.0   \n",
      "\n",
      "            MouthRight  MouthTop  MouthLeft  MouthBottom  Label  \n",
      "Unnamed: 0                                                       \n",
      "0                164.0     166.0      166.0        164.0      0  \n",
      "1               9435.0    9892.0    12777.0      12777.0      0  \n",
      "2                188.0     688.0      615.0        188.0      0  \n",
      "3                204.0     205.0      205.0        205.0      0  \n",
      "4                230.0     231.0      230.0        230.0      0  \n",
      "...                ...       ...        ...          ...    ...  \n",
      "245              477.0     483.0    18584.0        479.0      1  \n",
      "246              502.0     507.0      524.0        506.0      1  \n",
      "247              443.0     446.0      454.0        442.0      1  \n",
      "248              446.0     454.0      467.0        432.0      1  \n",
      "249              437.0     424.0      432.0        430.0      1  \n",
      "\n",
      "[1506 rows x 11 columns]\n"
     ]
    }
   ],
   "source": [
    "print(df)"
   ]
  },
  {
   "cell_type": "code",
   "execution_count": 7,
   "id": "b8fde45c",
   "metadata": {},
   "outputs": [],
   "source": [
    "#Extracting the columns that are numerical in nature\n",
    "cols_data = ['Chin','Nose','RightEye1','RightEye2','LeftEye1',\n",
    "             'LeftEye2','MouthRight','MouthTop','MouthLeft','MouthBottom']\n",
    "\n",
    "#Using Lambda function to normalize our features\n",
    "df[cols_data] = df[cols_data].apply(lambda x: (x-x.min())/(x.max()-x.min()))"
   ]
  },
  {
   "cell_type": "code",
   "execution_count": 8,
   "id": "bc29df43",
   "metadata": {},
   "outputs": [],
   "source": [
    "#Creating feature columns from numerical data\n",
    "chin_ft = tf.feature_column.numeric_column(\"Chin\")\n",
    "nose_ft = tf.feature_column.numeric_column(\"Nose\")\n",
    "eyeR1_ft = tf.feature_column.numeric_column(\"RightEye1\")\n",
    "eyeR2_ft = tf.feature_column.numeric_column(\"RightEye2\")\n",
    "eyeL1_ft = tf.feature_column.numeric_column(\"LeftEye1\")\n",
    "eyeL2_ft = tf.feature_column.numeric_column(\"LeftEye2\")\n",
    "mouthR_ft = tf.feature_column.numeric_column(\"MouthRight\")\n",
    "mouthL_ft = tf.feature_column.numeric_column(\"MouthLeft\")\n",
    "mouthT_ft = tf.feature_column.numeric_column(\"MouthTop\")\n",
    "mouthB_ft = tf.feature_column.numeric_column(\"MouthBottom\")"
   ]
  },
  {
   "cell_type": "code",
   "execution_count": 9,
   "id": "35feb69b",
   "metadata": {},
   "outputs": [],
   "source": [
    "feature_cols = [chin_ft, nose_ft, eyeR1_ft, eyeR2_ft, eyeL1_ft, eyeL2_ft, \n",
    "                mouthR_ft, mouthT_ft, mouthL_ft, mouthB_ft]"
   ]
  },
  {
   "cell_type": "code",
   "execution_count": 10,
   "id": "fce25764",
   "metadata": {},
   "outputs": [],
   "source": [
    "#Spliting the features and label\n",
    "labels = df['Label']\n",
    "X_data = df.drop('Label', axis=1)"
   ]
  },
  {
   "cell_type": "code",
   "execution_count": 11,
   "id": "16b7702c",
   "metadata": {},
   "outputs": [],
   "source": [
    "#Importing the module for performing train/test split\n",
    "from sklearn.model_selection import train_test_split\n",
    "\n",
    "x_train, x_test, y_train, y_test = train_test_split(X_data,labels,\n",
    "                                                    test_size=0.03,\n",
    "                                                    random_state=101)"
   ]
  },
  {
   "cell_type": "code",
   "execution_count": 12,
   "id": "b4f2ac67",
   "metadata": {},
   "outputs": [
    {
     "name": "stdout",
     "output_type": "stream",
     "text": [
      "WARNING:tensorflow:From /home/raikmitl-5/.local/lib/python3.6/site-packages/tensorflow/python/util/lazy_loader.py:63: The name tf.estimator.inputs is deprecated. Please use tf.compat.v1.estimator.inputs instead.\n",
      "\n"
     ]
    }
   ],
   "source": [
    "#Defining the input function\n",
    "input_func = tf.compat.v1.estimator.inputs.pandas_input_fn(x=x_train,\n",
    "                                                           y=y_train,\n",
    "                                                           batch_size=10,\n",
    "                                                           num_epochs=1000,\n",
    "                                                           shuffle=True)"
   ]
  },
  {
   "cell_type": "code",
   "execution_count": 13,
   "id": "2d5bbe34",
   "metadata": {},
   "outputs": [
    {
     "name": "stdout",
     "output_type": "stream",
     "text": [
      "INFO:tensorflow:Using default config.\n",
      "INFO:tensorflow:Using config: {'_model_dir': '/home/raikmitl-5/Desktop/ENV_Project/Checkpoint_dir', '_tf_random_seed': None, '_save_summary_steps': 100, '_save_checkpoints_steps': None, '_save_checkpoints_secs': 600, '_session_config': allow_soft_placement: true\n",
      "graph_options {\n",
      "  rewrite_options {\n",
      "    meta_optimizer_iterations: ONE\n",
      "  }\n",
      "}\n",
      ", '_keep_checkpoint_max': 5, '_keep_checkpoint_every_n_hours': 10000, '_log_step_count_steps': 100, '_train_distribute': None, '_device_fn': None, '_protocol': None, '_eval_distribute': None, '_experimental_distribute': None, '_experimental_max_worker_delay_secs': None, '_session_creation_timeout_secs': 7200, '_checkpoint_save_graph_def': True, '_service': None, '_cluster_spec': ClusterSpec({}), '_task_type': 'worker', '_task_id': 0, '_global_id_in_cluster': 0, '_master': '', '_evaluation_master': '', '_is_chief': True, '_num_ps_replicas': 0, '_num_worker_replicas': 1}\n"
     ]
    }
   ],
   "source": [
    "#Defining the Linear Classifier\n",
    "model = tf.compat.v1.estimator.LinearClassifier(feature_columns=feature_cols,\n",
    "                                                n_classes=2,\n",
    "                                                model_dir='/home/raikmitl-5/Desktop/ENV_Project/Checkpoint_dir')"
   ]
  },
  {
   "cell_type": "code",
   "execution_count": 14,
   "id": "1fc26bd9",
   "metadata": {},
   "outputs": [
    {
     "name": "stdout",
     "output_type": "stream",
     "text": [
      "WARNING:tensorflow:From /home/raikmitl-5/.local/lib/python3.6/site-packages/tensorflow/python/training/training_util.py:236: Variable.initialized_value (from tensorflow.python.ops.variables) is deprecated and will be removed in a future version.\n",
      "Instructions for updating:\n",
      "Use Variable.read_value. Variables in 2.X are initialized automatically both in eager and graph (inside tf.defun) contexts.\n",
      "WARNING:tensorflow:From /home/raikmitl-5/.local/lib/python3.6/site-packages/tensorflow_estimator/python/estimator/inputs/queues/feeding_queue_runner.py:65: QueueRunner.__init__ (from tensorflow.python.training.queue_runner_impl) is deprecated and will be removed in a future version.\n",
      "Instructions for updating:\n",
      "To construct input pipelines, use the `tf.data` module.\n",
      "WARNING:tensorflow:From /home/raikmitl-5/.local/lib/python3.6/site-packages/tensorflow_estimator/python/estimator/inputs/queues/feeding_functions.py:491: add_queue_runner (from tensorflow.python.training.queue_runner_impl) is deprecated and will be removed in a future version.\n",
      "Instructions for updating:\n",
      "To construct input pipelines, use the `tf.data` module.\n",
      "INFO:tensorflow:Calling model_fn.\n"
     ]
    },
    {
     "name": "stderr",
     "output_type": "stream",
     "text": [
      "/home/raikmitl-5/.local/lib/python3.6/site-packages/tensorflow/python/keras/engine/base_layer_v1.py:1727: UserWarning: `layer.add_variable` is deprecated and will be removed in a future version. Please use `layer.add_weight` method instead.\n",
      "  warnings.warn('`layer.add_variable` is deprecated and '\n"
     ]
    },
    {
     "name": "stdout",
     "output_type": "stream",
     "text": [
      "INFO:tensorflow:Done calling model_fn.\n",
      "INFO:tensorflow:Create CheckpointSaverHook.\n",
      "INFO:tensorflow:Graph was finalized.\n",
      "INFO:tensorflow:Running local_init_op.\n",
      "INFO:tensorflow:Done running local_init_op.\n",
      "WARNING:tensorflow:From /home/raikmitl-5/.local/lib/python3.6/site-packages/tensorflow/python/training/monitored_session.py:906: start_queue_runners (from tensorflow.python.training.queue_runner_impl) is deprecated and will be removed in a future version.\n",
      "Instructions for updating:\n",
      "To construct input pipelines, use the `tf.data` module.\n",
      "INFO:tensorflow:Calling checkpoint listeners before saving checkpoint 0...\n",
      "INFO:tensorflow:Saving checkpoints for 0 into /home/raikmitl-5/Desktop/ENV_Project/Checkpoint_dir/model.ckpt.\n",
      "INFO:tensorflow:Calling checkpoint listeners after saving checkpoint 0...\n",
      "INFO:tensorflow:loss = 6.931472, step = 0\n",
      "INFO:tensorflow:global_step/sec: 543.406\n",
      "INFO:tensorflow:loss = 6.1664877, step = 100 (0.186 sec)\n",
      "INFO:tensorflow:global_step/sec: 834.932\n",
      "INFO:tensorflow:loss = 5.008794, step = 200 (0.119 sec)\n",
      "INFO:tensorflow:global_step/sec: 891.787\n",
      "INFO:tensorflow:loss = 5.5263267, step = 300 (0.111 sec)\n",
      "INFO:tensorflow:global_step/sec: 955.533\n",
      "INFO:tensorflow:loss = 5.725009, step = 400 (0.105 sec)\n",
      "INFO:tensorflow:global_step/sec: 903.322\n",
      "INFO:tensorflow:loss = 7.103305, step = 500 (0.111 sec)\n",
      "INFO:tensorflow:global_step/sec: 908.814\n",
      "INFO:tensorflow:loss = 5.3869743, step = 600 (0.110 sec)\n",
      "INFO:tensorflow:global_step/sec: 848.962\n",
      "INFO:tensorflow:loss = 4.275007, step = 700 (0.119 sec)\n",
      "INFO:tensorflow:global_step/sec: 830.524\n",
      "INFO:tensorflow:loss = 6.1812453, step = 800 (0.119 sec)\n",
      "INFO:tensorflow:global_step/sec: 731.323\n",
      "INFO:tensorflow:loss = 5.9135814, step = 900 (0.138 sec)\n",
      "INFO:tensorflow:Calling checkpoint listeners before saving checkpoint 1000...\n",
      "INFO:tensorflow:Saving checkpoints for 1000 into /home/raikmitl-5/Desktop/ENV_Project/Checkpoint_dir/model.ckpt.\n",
      "INFO:tensorflow:Calling checkpoint listeners after saving checkpoint 1000...\n",
      "INFO:tensorflow:Loss for final step: 6.613751.\n"
     ]
    },
    {
     "data": {
      "text/plain": [
       "<tensorflow_estimator.python.estimator.canned.linear.LinearClassifier at 0x7f50dc02eb00>"
      ]
     },
     "execution_count": 14,
     "metadata": {},
     "output_type": "execute_result"
    }
   ],
   "source": [
    "model.train(input_fn=input_func,steps=1000)"
   ]
  },
  {
   "cell_type": "code",
   "execution_count": 15,
   "id": "392fbd6a",
   "metadata": {},
   "outputs": [],
   "source": [
    "pred_input_func = tf.compat.v1.estimator.inputs.pandas_input_fn(x=x_test,\n",
    "                                                                batch_size=10,\n",
    "                                                                num_epochs=1,\n",
    "                                                                shuffle=False)"
   ]
  },
  {
   "cell_type": "code",
   "execution_count": 17,
   "id": "cba91264",
   "metadata": {},
   "outputs": [
    {
     "name": "stdout",
     "output_type": "stream",
     "text": [
      "INFO:tensorflow:Calling model_fn.\n",
      "INFO:tensorflow:Done calling model_fn.\n",
      "INFO:tensorflow:Graph was finalized.\n",
      "INFO:tensorflow:Restoring parameters from /home/raikmitl-5/Desktop/ENV_Project/Checkpoint_dir/model.ckpt-1000\n",
      "INFO:tensorflow:Running local_init_op.\n",
      "INFO:tensorflow:Done running local_init_op.\n"
     ]
    }
   ],
   "source": [
    "predictions = list(model.predict(input_fn=pred_input_func))"
   ]
  },
  {
   "cell_type": "code",
   "execution_count": 18,
   "id": "ed7a90bf",
   "metadata": {},
   "outputs": [
    {
     "data": {
      "text/plain": [
       "{'logits': array([0.17457801], dtype=float32),\n",
       " 'logistic': array([0.543534], dtype=float32),\n",
       " 'probabilities': array([0.456466, 0.543534], dtype=float32),\n",
       " 'class_ids': array([1]),\n",
       " 'classes': array([b'1'], dtype=object),\n",
       " 'all_class_ids': array([0, 1], dtype=int32),\n",
       " 'all_classes': array([b'0', b'1'], dtype=object)}"
      ]
     },
     "execution_count": 18,
     "metadata": {},
     "output_type": "execute_result"
    }
   ],
   "source": [
    "predictions[0]"
   ]
  },
  {
   "cell_type": "code",
   "execution_count": 19,
   "id": "3a6b573c",
   "metadata": {},
   "outputs": [],
   "source": [
    "final_preds = []\n",
    "for pred in predictions:\n",
    "    final_preds.append(pred['class_ids'][0])"
   ]
  },
  {
   "cell_type": "code",
   "execution_count": 20,
   "id": "c4d9a56f",
   "metadata": {},
   "outputs": [
    {
     "data": {
      "text/plain": [
       "[1, 1, 0, 0, 0, 0, 0, 1, 0, 1]"
      ]
     },
     "execution_count": 20,
     "metadata": {},
     "output_type": "execute_result"
    }
   ],
   "source": [
    "final_preds[:10]"
   ]
  },
  {
   "cell_type": "code",
   "execution_count": 21,
   "id": "f093ab09",
   "metadata": {},
   "outputs": [
    {
     "name": "stdout",
     "output_type": "stream",
     "text": [
      "              precision    recall  f1-score   support\n",
      "\n",
      "           0       0.75      0.78      0.76        27\n",
      "           1       0.67      0.63      0.65        19\n",
      "\n",
      "    accuracy                           0.72        46\n",
      "   macro avg       0.71      0.70      0.71        46\n",
      "weighted avg       0.72      0.72      0.72        46\n",
      "\n"
     ]
    }
   ],
   "source": [
    "from sklearn.metrics import classification_report\n",
    "print(classification_report(y_test,final_preds))"
   ]
  },
  {
   "cell_type": "markdown",
   "id": "a72efff9",
   "metadata": {},
   "source": [
    "Reference Link: https://medium.com/analytics-vidhya/save-and-load-a-tensorflow-estimator-model-for-predictions-233b798620a9"
   ]
  },
  {
   "cell_type": "code",
   "execution_count": 22,
   "id": "9f44f938",
   "metadata": {},
   "outputs": [
    {
     "name": "stdout",
     "output_type": "stream",
     "text": [
      "INFO:tensorflow:Calling model_fn.\n",
      "INFO:tensorflow:Done calling model_fn.\n",
      "WARNING:tensorflow:From /home/raikmitl-5/.local/lib/python3.6/site-packages/tensorflow/python/saved_model/signature_def_utils_impl.py:145: build_tensor_info (from tensorflow.python.saved_model.utils_impl) is deprecated and will be removed in a future version.\n",
      "Instructions for updating:\n",
      "This function will only be available through the v1 compatibility library as tf.compat.v1.saved_model.utils.build_tensor_info or tf.compat.v1.saved_model.build_tensor_info.\n",
      "INFO:tensorflow:Signatures INCLUDED in export for Classify: ['serving_default', 'classification']\n",
      "INFO:tensorflow:Signatures INCLUDED in export for Regress: ['regression']\n",
      "INFO:tensorflow:Signatures INCLUDED in export for Predict: ['predict']\n",
      "INFO:tensorflow:Signatures INCLUDED in export for Train: None\n",
      "INFO:tensorflow:Signatures INCLUDED in export for Eval: None\n"
     ]
    },
    {
     "name": "stderr",
     "output_type": "stream",
     "text": [
      "/home/raikmitl-5/.local/lib/python3.6/site-packages/tensorflow/python/keras/engine/base_layer_v1.py:1727: UserWarning: `layer.add_variable` is deprecated and will be removed in a future version. Please use `layer.add_weight` method instead.\n",
      "  warnings.warn('`layer.add_variable` is deprecated and '\n"
     ]
    },
    {
     "name": "stdout",
     "output_type": "stream",
     "text": [
      "INFO:tensorflow:Restoring parameters from /home/raikmitl-5/Desktop/ENV_Project/Checkpoint_dir/model.ckpt-1000\n",
      "INFO:tensorflow:Assets added to graph.\n",
      "INFO:tensorflow:No assets to write.\n",
      "INFO:tensorflow:SavedModel written to: /home/raikmitl-5/Desktop/ENV_Project/Checkpoint_dir/Model_dir/model/temp-1617948643/saved_model.pb\n"
     ]
    }
   ],
   "source": [
    "#save the model for Python\n",
    "import os\n",
    "import shutil\n",
    "\n",
    "inputFn = tf.compat.v1.estimator.export.build_parsing_serving_input_receiver_fn(\n",
    "    tf.feature_column.make_parse_example_spec(feature_cols))\n",
    "\n",
    "Output_dir = '/home/raikmitl-5/Desktop/ENV_Project/Checkpoint_dir/Model_dir'\n",
    "shutil.rmtree(Output_dir, ignore_errors=True)\n",
    "modelBasePath = os.path.join(Output_dir, \"model\")\n",
    "\n",
    "modelPath = model.export_saved_model(modelBasePath, inputFn)"
   ]
  },
  {
   "cell_type": "code",
   "execution_count": null,
   "id": "86f5b753",
   "metadata": {},
   "outputs": [],
   "source": []
  }
 ],
 "metadata": {
  "kernelspec": {
   "display_name": "Python 3",
   "language": "python",
   "name": "python3"
  },
  "language_info": {
   "codemirror_mode": {
    "name": "ipython",
    "version": 3
   },
   "file_extension": ".py",
   "mimetype": "text/x-python",
   "name": "python",
   "nbconvert_exporter": "python",
   "pygments_lexer": "ipython3",
   "version": "3.6.9"
  }
 },
 "nbformat": 4,
 "nbformat_minor": 5
}
